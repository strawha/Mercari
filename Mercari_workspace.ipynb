{
 "cells": [
  {
   "cell_type": "code",
   "execution_count": 2,
   "metadata": {},
   "outputs": [],
   "source": [
    "import pandas as pd\n",
    "import numpy as np\n",
    "import matplotlib.pyplot as plt\n",
    "import seaborn as sns"
   ]
  },
  {
   "cell_type": "markdown",
   "metadata": {},
   "source": [
    "Reading train and test files (tsv - Tabular seperated values)  //file format"
   ]
  },
  {
   "cell_type": "code",
   "execution_count": 3,
   "metadata": {},
   "outputs": [],
   "source": [
    "train = pd.read_csv('train.tsv', sep='\\t')\n",
    "test = pd.read_csv('test.tsv' , sep='\\t')\n"
   ]
  },
  {
   "cell_type": "code",
   "execution_count": 4,
   "metadata": {},
   "outputs": [
    {
     "name": "stdout",
     "output_type": "stream",
     "text": [
      "Size of test data: rows x cols:  (444761, 7)\n",
      "Size of train data: rows x cols:  (1037774, 8)\n"
     ]
    }
   ],
   "source": [
    "print (\"Size of test data: rows x cols: \", test.shape)\n",
    "print (\"Size of train data: rows x cols: \" ,train.shape)"
   ]
  },
  {
   "cell_type": "code",
   "execution_count": 5,
   "metadata": {
    "scrolled": true
   },
   "outputs": [
    {
     "name": "stdout",
     "output_type": "stream",
     "text": [
      "train_id               int64\n",
      "name                  object\n",
      "item_condition_id      int64\n",
      "category_name         object\n",
      "brand_name            object\n",
      "price                float64\n",
      "shipping               int64\n",
      "item_description      object\n",
      "dtype: object\n",
      "\n",
      " id                    int64\n",
      "name                 object\n",
      "item_condition_id     int64\n",
      "category_name        object\n",
      "brand_name           object\n",
      "shipping              int64\n",
      "item_description     object\n",
      "dtype: object\n"
     ]
    }
   ],
   "source": [
    "## Datatypes of train and test datasets respectively \n",
    "## objects are categorical fields(strings)\n",
    "\n",
    "print (train.dtypes)  \n",
    "print (\"\\n\", test.dtypes)"
   ]
  },
  {
   "cell_type": "code",
   "execution_count": 6,
   "metadata": {},
   "outputs": [
    {
     "data": {
      "text/html": [
       "<div>\n",
       "<style scoped>\n",
       "    .dataframe tbody tr th:only-of-type {\n",
       "        vertical-align: middle;\n",
       "    }\n",
       "\n",
       "    .dataframe tbody tr th {\n",
       "        vertical-align: top;\n",
       "    }\n",
       "\n",
       "    .dataframe thead th {\n",
       "        text-align: right;\n",
       "    }\n",
       "</style>\n",
       "<table border=\"1\" class=\"dataframe\">\n",
       "  <thead>\n",
       "    <tr style=\"text-align: right;\">\n",
       "      <th></th>\n",
       "      <th>train_id</th>\n",
       "      <th>name</th>\n",
       "      <th>item_condition_id</th>\n",
       "      <th>category_name</th>\n",
       "      <th>brand_name</th>\n",
       "      <th>price</th>\n",
       "      <th>shipping</th>\n",
       "      <th>item_description</th>\n",
       "    </tr>\n",
       "  </thead>\n",
       "  <tbody>\n",
       "    <tr>\n",
       "      <th>0</th>\n",
       "      <td>1436222</td>\n",
       "      <td>Tarte rainforest after dark colored clay</td>\n",
       "      <td>1</td>\n",
       "      <td>Beauty/Makeup/Makeup Palettes</td>\n",
       "      <td>Tarte</td>\n",
       "      <td>36.0</td>\n",
       "      <td>1</td>\n",
       "      <td>A brand-new, unused, unopened, undamaged item....</td>\n",
       "    </tr>\n",
       "    <tr>\n",
       "      <th>1</th>\n",
       "      <td>402989</td>\n",
       "      <td>Mac mineralize skin finish</td>\n",
       "      <td>3</td>\n",
       "      <td>Beauty/Makeup/Face</td>\n",
       "      <td>MAC</td>\n",
       "      <td>15.0</td>\n",
       "      <td>1</td>\n",
       "      <td>Color is gold deposit, about 85% of product left</td>\n",
       "    </tr>\n",
       "    <tr>\n",
       "      <th>2</th>\n",
       "      <td>638275</td>\n",
       "      <td>White Case iPhone 6/6s</td>\n",
       "      <td>1</td>\n",
       "      <td>Electronics/Cell Phones &amp; Accessories/Cases, C...</td>\n",
       "      <td>NaN</td>\n",
       "      <td>3.0</td>\n",
       "      <td>1</td>\n",
       "      <td>New Ultra thin Candy TPU Silicone Rubber Soft</td>\n",
       "    </tr>\n",
       "    <tr>\n",
       "      <th>3</th>\n",
       "      <td>1113629</td>\n",
       "      <td>Victoria's Secret push-up plunge</td>\n",
       "      <td>3</td>\n",
       "      <td>Women/Underwear/Bras</td>\n",
       "      <td>Victoria's Secret</td>\n",
       "      <td>18.0</td>\n",
       "      <td>1</td>\n",
       "      <td>VS sexy little thing multi way bras both size ...</td>\n",
       "    </tr>\n",
       "    <tr>\n",
       "      <th>4</th>\n",
       "      <td>328823</td>\n",
       "      <td>Disney Princess Toddler Boots Size 10</td>\n",
       "      <td>2</td>\n",
       "      <td>Kids/Girls 2T-5T/Shoes</td>\n",
       "      <td>Disney</td>\n",
       "      <td>13.0</td>\n",
       "      <td>1</td>\n",
       "      <td>New with out box!</td>\n",
       "    </tr>\n",
       "  </tbody>\n",
       "</table>\n",
       "</div>"
      ],
      "text/plain": [
       "   train_id                                      name  item_condition_id  \\\n",
       "0   1436222  Tarte rainforest after dark colored clay                  1   \n",
       "1    402989                Mac mineralize skin finish                  3   \n",
       "2    638275                    White Case iPhone 6/6s                  1   \n",
       "3   1113629          Victoria's Secret push-up plunge                  3   \n",
       "4    328823     Disney Princess Toddler Boots Size 10                  2   \n",
       "\n",
       "                                       category_name         brand_name  \\\n",
       "0                      Beauty/Makeup/Makeup Palettes              Tarte   \n",
       "1                                 Beauty/Makeup/Face                MAC   \n",
       "2  Electronics/Cell Phones & Accessories/Cases, C...                NaN   \n",
       "3                               Women/Underwear/Bras  Victoria's Secret   \n",
       "4                             Kids/Girls 2T-5T/Shoes             Disney   \n",
       "\n",
       "   price  shipping                                   item_description  \n",
       "0   36.0         1  A brand-new, unused, unopened, undamaged item....  \n",
       "1   15.0         1   Color is gold deposit, about 85% of product left  \n",
       "2    3.0         1      New Ultra thin Candy TPU Silicone Rubber Soft  \n",
       "3   18.0         1  VS sexy little thing multi way bras both size ...  \n",
       "4   13.0         1                                  New with out box!  "
      ]
     },
     "execution_count": 6,
     "metadata": {},
     "output_type": "execute_result"
    }
   ],
   "source": [
    "train.head()"
   ]
  },
  {
   "cell_type": "code",
   "execution_count": 7,
   "metadata": {},
   "outputs": [
    {
     "name": "stdout",
     "output_type": "stream",
     "text": [
      "<class 'pandas.core.frame.DataFrame'>\n",
      "RangeIndex: 1037774 entries, 0 to 1037773\n",
      "Data columns (total 8 columns):\n",
      " #   Column             Non-Null Count    Dtype  \n",
      "---  ------             --------------    -----  \n",
      " 0   train_id           1037774 non-null  int64  \n",
      " 1   name               1037774 non-null  object \n",
      " 2   item_condition_id  1037774 non-null  int64  \n",
      " 3   category_name      1033392 non-null  object \n",
      " 4   brand_name         594827 non-null   object \n",
      " 5   price              1037774 non-null  float64\n",
      " 6   shipping           1037774 non-null  int64  \n",
      " 7   item_description   1037772 non-null  object \n",
      "dtypes: float64(1), int64(3), object(4)\n",
      "memory usage: 63.3+ MB\n"
     ]
    }
   ],
   "source": [
    "# dataset statistics\n",
    "train.info()"
   ]
  },
  {
   "cell_type": "code",
   "execution_count": 8,
   "metadata": {
    "scrolled": true
   },
   "outputs": [
    {
     "data": {
      "text/plain": [
       "Nike                 37851\n",
       "PINK                 37639\n",
       "Victoria's Secret    33652\n",
       "LuLaRoe              21720\n",
       "Apple                12116\n",
       "                     ...  \n",
       "Creed                    1\n",
       "Leading Lady             1\n",
       "Haier                    1\n",
       "John Blair               1\n",
       "White Diamond            1\n",
       "Name: brand_name, Length: 4413, dtype: int64"
      ]
     },
     "execution_count": 8,
     "metadata": {},
     "output_type": "execute_result"
    }
   ],
   "source": [
    "# no of unique values in brand_name feature \n",
    "len(train.brand_name.unique())    ## 4413 unique values in brand_name\n",
    "\n",
    "# count of no. of unique values of each type\n",
    "train.brand_name.value_counts()"
   ]
  },
  {
   "cell_type": "code",
   "execution_count": 9,
   "metadata": {},
   "outputs": [
    {
     "name": "stdout",
     "output_type": "stream",
     "text": [
      "train_id              0.000000\n",
      "name                  0.000000\n",
      "item_condition_id     0.000000\n",
      "category_name         0.422250\n",
      "brand_name           42.682414\n",
      "price                 0.000000\n",
      "shipping              0.000000\n",
      "item_description      0.000193\n",
      "dtype: float64\n"
     ]
    }
   ],
   "source": [
    "## Missing value percent in each column (feature)\n",
    "## brand_name has 43% missing values in its column \n",
    "percent_missing = train.isnull().sum() * 100 / len(train)\n",
    "print(percent_missing)"
   ]
  },
  {
   "cell_type": "code",
   "execution_count": 10,
   "metadata": {},
   "outputs": [
    {
     "data": {
      "image/png": "[encoded data removed]",
      "text/plain": [
       "<Figure size 720x360 with 1 Axes>"
      ]
     },
     "metadata": {
      "needs_background": "light"
     },
     "output_type": "display_data"
    }
   ],
   "source": [
    "## visulation of distibution of price variable\n",
    "train['price'].plot.hist(bins=50, figsize=(10, 5), edgecolor='white', range=[0, 500] )\n",
    "plt.xlabel('Price', fontsize=15)\n",
    "plt.ylabel('Frequencies', fontsize=15)\n",
    "plt.tick_params(labelsize=15)\n",
    "plt.title('Price Distribution - Training set', fontsize=17)\n",
    "plt.show()"
   ]
  },
  {
   "cell_type": "code",
   "execution_count": 13,
   "metadata": {},
   "outputs": [
    {
     "data": {
      "text/plain": [
       "count    1.037774e+06\n",
       "mean     2.673494e+01\n",
       "std      3.862050e+01\n",
       "min      0.000000e+00\n",
       "25%      1.000000e+01\n",
       "50%      1.700000e+01\n",
       "75%      2.900000e+01\n",
       "max      2.004000e+03\n",
       "Name: price, dtype: float64"
      ]
     },
     "execution_count": 13,
     "metadata": {},
     "output_type": "execute_result"
    }
   ],
   "source": [
    "#summary of 'price' feature column\n",
    "train.price.describe()"
   ]
  },
  {
   "cell_type": "raw",
   "metadata": {},
   "source": [
    "The Distribution is right skewed (long tail on right side of histogram)\n",
    "Median price = $17\n",
    "75% of items have price below $29\n",
    "Max price in dataset = $2004"
   ]
  },
  {
   "cell_type": "code",
   "execution_count": 14,
   "metadata": {},
   "outputs": [
    {
     "data": {
      "text/plain": [
       "0    55.294891\n",
       "1    44.705109\n",
       "Name: shipping, dtype: float64"
      ]
     },
     "execution_count": 14,
     "metadata": {},
     "output_type": "execute_result"
    }
   ],
   "source": [
    "train['shipping'].value_counts(normalize=True)*100\n",
    "\n",
    "## Shipping fee for 55% of items is paid by buyers"
   ]
  },
  {
   "cell_type": "code",
   "execution_count": 20,
   "metadata": {},
   "outputs": [
    {
     "data": {
      "image/png": "[encoded data removed]",
      "text/plain": [
       "<Figure size 432x288 with 1 Axes>"
      ]
     },
     "metadata": {
      "needs_background": "light"
     },
     "output_type": "display_data"
    }
   ],
   "source": [
    "## Price distribution by shipping value\n",
    "x, y = train['price'], train['shipping']\n",
    "arr = [x, y]\n",
    "plt.hist(arr, bins=50, edgecolor='white', range=[0, 500])\n",
    "plt.show()"
   ]
  },
  {
   "cell_type": "code",
   "execution_count": 21,
   "metadata": {},
   "outputs": [
    {
     "data": {
      "text/plain": [
       "1    43.208637\n",
       "2    25.300788\n",
       "3    29.180053\n",
       "4     2.149505\n",
       "5     0.161018\n",
       "Name: item_condition_id, dtype: float64"
      ]
     },
     "execution_count": 21,
     "metadata": {},
     "output_type": "execute_result"
    }
   ],
   "source": [
    "## To check the frequencies of item_condition_id values in data  .. Range = (1, 5) .. lower id --> better condition\n",
    "train['item_condition_id'].value_counts(normalize=True, sort=False)*100"
   ]
  },
  {
   "cell_type": "markdown",
   "metadata": {},
   "source": [
    "43% of items have id = 1 <br>\n",
    "0.16% of items have id = 5"
   ]
  },
  {
   "cell_type": "code",
   "execution_count": 23,
   "metadata": {},
   "outputs": [
    {
     "data": {
      "image/png": "[encoded data removed]",
      "text/plain": [
       "<Figure size 1440x540 with 1 Axes>"
      ]
     },
     "metadata": {
      "needs_background": "light"
     },
     "output_type": "display_data"
    }
   ],
   "source": [
    "price_100 = train[train['price'] < 100]\n",
    "fig, ax = plt.subplots(figsize=(20, 7.5))\n",
    "sns.boxplot(x='item_condition_id', y='price', data=price_100, ax=ax)\n",
    "plt.xlabel('Item_condition', fontsize=15)\n",
    "plt.ylabel('Price', fontsize=15)\n",
    "plt.xticks(fontsize=15)\n",
    "plt.yticks(fontsize=15)\n",
    "plt.show()"
   ]
  },
  {
   "cell_type": "code",
   "execution_count": 24,
   "metadata": {},
   "outputs": [
    {
     "data": {
      "text/plain": [
       "1259"
      ]
     },
     "execution_count": 24,
     "metadata": {},
     "output_type": "execute_result"
    }
   ],
   "source": [
    "len(train.category_name.unique())\n",
    "## There are 1259 unique categories in 'category_name'"
   ]
  },
  {
   "cell_type": "code",
   "execution_count": 25,
   "metadata": {},
   "outputs": [
    {
     "data": {
      "text/plain": [
       "Women/Athletic Apparel/Pants, Tights, Leggings    4.069124\n",
       "Women/Tops & Blouses/T-Shirts                     3.142854\n",
       "Beauty/Makeup/Face                                2.315191\n",
       "Beauty/Makeup/Lips                                2.032433\n",
       "Electronics/Video Games & Consoles/Games          1.791189\n",
       "Name: category_name, dtype: float64"
      ]
     },
     "execution_count": 25,
     "metadata": {},
     "output_type": "execute_result"
    }
   ],
   "source": [
    "(train.category_name.value_counts(normalize=True)*100).head()"
   ]
  },
  {
   "cell_type": "code",
   "execution_count": null,
   "metadata": {},
   "outputs": [],
   "source": []
  }
 ],
 "metadata": {
  "kernelspec": {
   "display_name": "Python 3",
   "language": "python",
   "name": "python3"
  },
  "language_info": {
   "codemirror_mode": {
    "name": "ipython",
    "version": 3
   },
   "file_extension": ".py",
   "mimetype": "text/x-python",
   "name": "python",
   "nbconvert_exporter": "python",
   "pygments_lexer": "ipython3",
   "version": "3.8.3"
  }
 },
 "nbformat": 4,
 "nbformat_minor": 4
}
