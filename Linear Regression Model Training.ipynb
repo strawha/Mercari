{
 "cells": [
  {
   "cell_type": "code",
   "execution_count": 3,
   "metadata": {},
   "outputs": [],
   "source": [
    "import pandas as pd\n",
    "import numpy as np\n",
    "##import gensim     ## use it while applying Glove, Word2Vec etc"
   ]
  },
  {
   "cell_type": "markdown",
   "metadata": {},
   "source": [
    "##### Reading from pre-processed train & test datasets. Pre-processing such as EDA, Text-Preprocessing has been applied previously to the below datasets"
   ]
  },
  {
   "cell_type": "code",
   "execution_count": 4,
   "metadata": {},
   "outputs": [],
   "source": [
    "train = pd.read_csv('processed_train.csv')\n",
    "test = pd.read_csv('processed_test.csv')"
   ]
  },
  {
   "cell_type": "markdown",
   "metadata": {},
   "source": [
    "##### Since we have split category_name feature into subcategory columns, there is no need of orginal 'cateogry_name' column in our dataset. Hence we are dropping it. Similary for 'item_description' & 'name' column we have tokenised the words seperately. "
   ]
  },
  {
   "cell_type": "code",
   "execution_count": 5,
   "metadata": {},
   "outputs": [],
   "source": [
    "## deleting redundant columns in train set\n",
    "del train[\"Unnamed: 0\"]\n",
    "del train[\"name\"]\n",
    "del train[\"category_name\"]\n",
    "del train[\"item_description\"]"
   ]
  },
  {
   "cell_type": "code",
   "execution_count": 6,
   "metadata": {},
   "outputs": [],
   "source": [
    "## deleting redundant columns in test set\n",
    "del test['Unnamed: 0']\n",
    "del test['category_name']"
   ]
  },
  {
   "cell_type": "code",
   "execution_count": 7,
   "metadata": {},
   "outputs": [
    {
     "data": {
      "text/html": [
       "<div>\n",
       "<style scoped>\n",
       "    .dataframe tbody tr th:only-of-type {\n",
       "        vertical-align: middle;\n",
       "    }\n",
       "\n",
       "    .dataframe tbody tr th {\n",
       "        vertical-align: top;\n",
       "    }\n",
       "\n",
       "    .dataframe thead th {\n",
       "        text-align: right;\n",
       "    }\n",
       "</style>\n",
       "<table border=\"1\" class=\"dataframe\">\n",
       "  <thead>\n",
       "    <tr style=\"text-align: right;\">\n",
       "      <th></th>\n",
       "      <th>train_id</th>\n",
       "      <th>item_condition_id</th>\n",
       "      <th>brand_name</th>\n",
       "      <th>price</th>\n",
       "      <th>shipping</th>\n",
       "      <th>main_cat</th>\n",
       "      <th>sub_cat1</th>\n",
       "      <th>sub_cat2</th>\n",
       "      <th>log_price</th>\n",
       "      <th>description_wc</th>\n",
       "      <th>name_wc</th>\n",
       "      <th>tokenized_name</th>\n",
       "      <th>tokenized_description</th>\n",
       "    </tr>\n",
       "  </thead>\n",
       "  <tbody>\n",
       "    <tr>\n",
       "      <th>0</th>\n",
       "      <td>204360</td>\n",
       "      <td>3</td>\n",
       "      <td>The Children's Place</td>\n",
       "      <td>10.0</td>\n",
       "      <td>0</td>\n",
       "      <td>Kids</td>\n",
       "      <td>Girls (4+)</td>\n",
       "      <td>Tops &amp; T-Shirts</td>\n",
       "      <td>2.397895</td>\n",
       "      <td>32</td>\n",
       "      <td>5</td>\n",
       "      <td>['3', 'girl', 't', 'shirt']</td>\n",
       "      <td>['cute', 'shirt', 'littl', 'girl', 'size', 'br...</td>\n",
       "    </tr>\n",
       "    <tr>\n",
       "      <th>1</th>\n",
       "      <td>1191320</td>\n",
       "      <td>3</td>\n",
       "      <td>Topps</td>\n",
       "      <td>17.0</td>\n",
       "      <td>1</td>\n",
       "      <td>Vintage &amp; Collectibles</td>\n",
       "      <td>Trading Cards</td>\n",
       "      <td>Sports</td>\n",
       "      <td>2.890372</td>\n",
       "      <td>14</td>\n",
       "      <td>5</td>\n",
       "      <td>['4', 'old', 'basebal', 'card']</td>\n",
       "      <td>['includ', 'hall', 'fame', 'player', 'furillo'...</td>\n",
       "    </tr>\n",
       "    <tr>\n",
       "      <th>2</th>\n",
       "      <td>270664</td>\n",
       "      <td>2</td>\n",
       "      <td>Fox Racing</td>\n",
       "      <td>15.0</td>\n",
       "      <td>1</td>\n",
       "      <td>Men</td>\n",
       "      <td>Tops</td>\n",
       "      <td>T-shirts</td>\n",
       "      <td>2.772589</td>\n",
       "      <td>3</td>\n",
       "      <td>5</td>\n",
       "      <td>['alpinestar', 'men', 'tee', 'shirt']</td>\n",
       "      <td>['descript', 'yet']</td>\n",
       "    </tr>\n",
       "    <tr>\n",
       "      <th>3</th>\n",
       "      <td>823747</td>\n",
       "      <td>2</td>\n",
       "      <td>Not Known</td>\n",
       "      <td>75.0</td>\n",
       "      <td>1</td>\n",
       "      <td>Women</td>\n",
       "      <td>Jeans</td>\n",
       "      <td>Slim, Skinny</td>\n",
       "      <td>4.330733</td>\n",
       "      <td>3</td>\n",
       "      <td>7</td>\n",
       "      <td>['hold', 'distress', 'short', 'bundl']</td>\n",
       "      <td>['hold']</td>\n",
       "    </tr>\n",
       "    <tr>\n",
       "      <th>4</th>\n",
       "      <td>852490</td>\n",
       "      <td>3</td>\n",
       "      <td>Not Known</td>\n",
       "      <td>9.0</td>\n",
       "      <td>0</td>\n",
       "      <td>Women</td>\n",
       "      <td>Tops &amp; Blouses</td>\n",
       "      <td>Knit Top</td>\n",
       "      <td>2.302585</td>\n",
       "      <td>6</td>\n",
       "      <td>6</td>\n",
       "      <td>['junior', 'plaid', 'tie', 'front', 'top']</td>\n",
       "      <td>['cute', 'lace', 'plaid', 'cotton', 'top']</td>\n",
       "    </tr>\n",
       "  </tbody>\n",
       "</table>\n",
       "</div>"
      ],
      "text/plain": [
       "   train_id  item_condition_id            brand_name  price  shipping  \\\n",
       "0    204360                  3  The Children's Place   10.0         0   \n",
       "1   1191320                  3                 Topps   17.0         1   \n",
       "2    270664                  2            Fox Racing   15.0         1   \n",
       "3    823747                  2             Not Known   75.0         1   \n",
       "4    852490                  3             Not Known    9.0         0   \n",
       "\n",
       "                 main_cat        sub_cat1         sub_cat2  log_price  \\\n",
       "0                    Kids      Girls (4+)  Tops & T-Shirts   2.397895   \n",
       "1  Vintage & Collectibles   Trading Cards           Sports   2.890372   \n",
       "2                     Men            Tops         T-shirts   2.772589   \n",
       "3                   Women           Jeans     Slim, Skinny   4.330733   \n",
       "4                   Women  Tops & Blouses         Knit Top   2.302585   \n",
       "\n",
       "   description_wc  name_wc                              tokenized_name  \\\n",
       "0              32        5                 ['3', 'girl', 't', 'shirt']   \n",
       "1              14        5             ['4', 'old', 'basebal', 'card']   \n",
       "2               3        5       ['alpinestar', 'men', 'tee', 'shirt']   \n",
       "3               3        7      ['hold', 'distress', 'short', 'bundl']   \n",
       "4               6        6  ['junior', 'plaid', 'tie', 'front', 'top']   \n",
       "\n",
       "                               tokenized_description  \n",
       "0  ['cute', 'shirt', 'littl', 'girl', 'size', 'br...  \n",
       "1  ['includ', 'hall', 'fame', 'player', 'furillo'...  \n",
       "2                                ['descript', 'yet']  \n",
       "3                                           ['hold']  \n",
       "4         ['cute', 'lace', 'plaid', 'cotton', 'top']  "
      ]
     },
     "execution_count": 7,
     "metadata": {},
     "output_type": "execute_result"
    }
   ],
   "source": [
    "train.head()"
   ]
  },
  {
   "cell_type": "code",
   "execution_count": 8,
   "metadata": {},
   "outputs": [
    {
     "data": {
      "text/html": [
       "<div>\n",
       "<style scoped>\n",
       "    .dataframe tbody tr th:only-of-type {\n",
       "        vertical-align: middle;\n",
       "    }\n",
       "\n",
       "    .dataframe tbody tr th {\n",
       "        vertical-align: top;\n",
       "    }\n",
       "\n",
       "    .dataframe thead th {\n",
       "        text-align: right;\n",
       "    }\n",
       "</style>\n",
       "<table border=\"1\" class=\"dataframe\">\n",
       "  <thead>\n",
       "    <tr style=\"text-align: right;\">\n",
       "      <th></th>\n",
       "      <th>id</th>\n",
       "      <th>name</th>\n",
       "      <th>item_condition_id</th>\n",
       "      <th>brand_name</th>\n",
       "      <th>shipping</th>\n",
       "      <th>item_description</th>\n",
       "      <th>main_cat</th>\n",
       "      <th>sub_cat1</th>\n",
       "      <th>sub_cat2</th>\n",
       "    </tr>\n",
       "  </thead>\n",
       "  <tbody>\n",
       "    <tr>\n",
       "      <th>0</th>\n",
       "      <td>1048243</td>\n",
       "      <td>Herschel Retreat Backpack</td>\n",
       "      <td>2</td>\n",
       "      <td>Urban Outfitters</td>\n",
       "      <td>0</td>\n",
       "      <td>In great condition! Only issue is magnet that ...</td>\n",
       "      <td>Men</td>\n",
       "      <td>Men's Accessories</td>\n",
       "      <td>Backpacks, Bags &amp; Briefcases</td>\n",
       "    </tr>\n",
       "    <tr>\n",
       "      <th>1</th>\n",
       "      <td>86986</td>\n",
       "      <td>2 pairs of Lebron</td>\n",
       "      <td>3</td>\n",
       "      <td>Nike</td>\n",
       "      <td>1</td>\n",
       "      <td>Lebron soldier 10 size 10.5 9/10 condition Leb...</td>\n",
       "      <td>Men</td>\n",
       "      <td>Shoes</td>\n",
       "      <td>Athletic</td>\n",
       "    </tr>\n",
       "    <tr>\n",
       "      <th>2</th>\n",
       "      <td>698316</td>\n",
       "      <td>Mario Kart Double Dash with bonus disc</td>\n",
       "      <td>3</td>\n",
       "      <td>Nintendo</td>\n",
       "      <td>1</td>\n",
       "      <td>Good shape work no problem</td>\n",
       "      <td>Vintage &amp; Collectibles</td>\n",
       "      <td>Electronics</td>\n",
       "      <td>Video Game</td>\n",
       "    </tr>\n",
       "    <tr>\n",
       "      <th>3</th>\n",
       "      <td>268868</td>\n",
       "      <td>Tokidoki unicorno kaiju and strawberry</td>\n",
       "      <td>2</td>\n",
       "      <td>tokidoki</td>\n",
       "      <td>1</td>\n",
       "      <td>Both new with foil and box.</td>\n",
       "      <td>Vintage &amp; Collectibles</td>\n",
       "      <td>Collectibles</td>\n",
       "      <td>Figurine</td>\n",
       "    </tr>\n",
       "    <tr>\n",
       "      <th>4</th>\n",
       "      <td>1360398</td>\n",
       "      <td>Like Ugg Cardy, grey knit top boot</td>\n",
       "      <td>2</td>\n",
       "      <td>NaN</td>\n",
       "      <td>0</td>\n",
       "      <td>Brand new, not even a foot near them! Size 8 b...</td>\n",
       "      <td>Women</td>\n",
       "      <td>Shoes</td>\n",
       "      <td>Boots</td>\n",
       "    </tr>\n",
       "  </tbody>\n",
       "</table>\n",
       "</div>"
      ],
      "text/plain": [
       "        id                                    name  item_condition_id  \\\n",
       "0  1048243               Herschel Retreat Backpack                  2   \n",
       "1    86986                       2 pairs of Lebron                  3   \n",
       "2   698316  Mario Kart Double Dash with bonus disc                  3   \n",
       "3   268868  Tokidoki unicorno kaiju and strawberry                  2   \n",
       "4  1360398      Like Ugg Cardy, grey knit top boot                  2   \n",
       "\n",
       "         brand_name  shipping  \\\n",
       "0  Urban Outfitters         0   \n",
       "1              Nike         1   \n",
       "2          Nintendo         1   \n",
       "3          tokidoki         1   \n",
       "4               NaN         0   \n",
       "\n",
       "                                    item_description                main_cat  \\\n",
       "0  In great condition! Only issue is magnet that ...                     Men   \n",
       "1  Lebron soldier 10 size 10.5 9/10 condition Leb...                     Men   \n",
       "2                         Good shape work no problem  Vintage & Collectibles   \n",
       "3                        Both new with foil and box.  Vintage & Collectibles   \n",
       "4  Brand new, not even a foot near them! Size 8 b...                   Women   \n",
       "\n",
       "            sub_cat1                      sub_cat2  \n",
       "0  Men's Accessories  Backpacks, Bags & Briefcases  \n",
       "1              Shoes                      Athletic  \n",
       "2        Electronics                    Video Game  \n",
       "3       Collectibles                      Figurine  \n",
       "4              Shoes                         Boots  "
      ]
     },
     "execution_count": 8,
     "metadata": {},
     "output_type": "execute_result"
    }
   ],
   "source": [
    "test.head()"
   ]
  },
  {
   "cell_type": "markdown",
   "metadata": {},
   "source": [
    "##### For applying Linear Regression mdoel, we have to seperate target variable from original dataset and feed it seperately. And test dataset shouldn't contain the target variable."
   ]
  },
  {
   "cell_type": "code",
   "execution_count": 9,
   "metadata": {},
   "outputs": [],
   "source": [
    "## seperating target column price from train dataset for applying Regression\n",
    "x_train = train.drop(['log_price'], axis=1)\n",
    "y_train = train['log_price']"
   ]
  },
  {
   "cell_type": "code",
   "execution_count": 10,
   "metadata": {},
   "outputs": [],
   "source": [
    "## filling missing values for brand_name and item_description similar to train dataset\n",
    "test['brand_name'] = test['brand_name'].fillna('Not Known')\n",
    "test['item_description'] = test['item_description'].fillna('No Description Yet')"
   ]
  },
  {
   "cell_type": "code",
   "execution_count": 11,
   "metadata": {},
   "outputs": [],
   "source": [
    "## test dataset without target variable price\n",
    "x_test = test.copy()"
   ]
  },
  {
   "cell_type": "markdown",
   "metadata": {},
   "source": [
    "##### Lets apply One-hot encoding for categorical columns for train & test dataset\n",
    "Features brand_name, item_condition_id, shipping, main_cat, sub_cat1, sub_cat2 are applied with one-hot encoding. For item_description feature, we shall deal with it later with word embeddings"
   ]
  },
  {
   "cell_type": "code",
   "execution_count": 12,
   "metadata": {},
   "outputs": [],
   "source": [
    "## One - hot encoding \n",
    "from sklearn.preprocessing import OneHotEncoder\n",
    "\n",
    "def onehot_encoding(feature):\n",
    "    encoder = OneHotEncoder(handle_unknown='ignore')\n",
    "    x_train_onehot = encoder.fit_transform(x_train[feature].values.reshape(-1,1))\n",
    "    x_test_onehot = encoder.transform(x_test[feature].values.reshape(-1,1))\n",
    "    return x_train_onehot, x_test_onehot\n",
    "\n",
    "\n",
    "x_train_brand, x_test_brand = onehot_encoding('brand_name')\n",
    "x_train_condition, x_test_condition = onehot_encoding('item_condition_id')\n",
    "x_train_shipping, x_test_shipping = onehot_encoding('shipping')\n",
    "x_train_main_cat, x_test_main_cat = onehot_encoding('main_cat')\n",
    "x_train_subcat_1, x_test_subcat_1 = onehot_encoding('sub_cat1')\n",
    "x_train_subcat_2, x_test_subcat_2 = onehot_encoding('sub_cat2')"
   ]
  },
  {
   "cell_type": "markdown",
   "metadata": {},
   "source": [
    "### Applying CountVectorizer word embedding for item_description feature"
   ]
  },
  {
   "cell_type": "markdown",
   "metadata": {},
   "source": [
    "###### In train dataset, the item_description column has been tokenized into lists of words. For test dataset, we are passing the original item_description column"
   ]
  },
  {
   "cell_type": "code",
   "execution_count": 13,
   "metadata": {},
   "outputs": [],
   "source": [
    "from sklearn.feature_extraction.text import CountVectorizer\n",
    "\n",
    "bow = CountVectorizer(min_df=10, ngram_range=(1,2), binary=True)\n",
    "x_train_bow_desc = bow.fit_transform(x_train['tokenized_description'])\n",
    "x_test_bow_desc = bow.transform(x_test['item_description'])"
   ]
  },
  {
   "cell_type": "code",
   "execution_count": 32,
   "metadata": {},
   "outputs": [
    {
     "data": {
      "text/plain": [
       "<629308x160619 sparse matrix of type '<class 'numpy.int64'>'\n",
       "\twith 17310000 stored elements in Compressed Sparse Row format>"
      ]
     },
     "execution_count": 32,
     "metadata": {},
     "output_type": "execute_result"
    }
   ],
   "source": [
    "x_train_bow_desc"
   ]
  },
  {
   "cell_type": "code",
   "execution_count": 33,
   "metadata": {},
   "outputs": [
    {
     "data": {
      "text/plain": [
       "<444761x160619 sparse matrix of type '<class 'numpy.int64'>'\n",
       "\twith 6501338 stored elements in Compressed Sparse Row format>"
      ]
     },
     "execution_count": 33,
     "metadata": {},
     "output_type": "execute_result"
    }
   ],
   "source": [
    "x_test_bow_desc"
   ]
  },
  {
   "cell_type": "code",
   "execution_count": 14,
   "metadata": {},
   "outputs": [],
   "source": [
    "## For stacking sparse matrices horizontally\n",
    "from scipy.sparse import hstack\n",
    "x_train_final = hstack((x_train_brand, x_train_condition, x_train_shipping, x_train_main_cat, x_train_subcat_1, x_train_subcat_2, x_train_bow_desc))\n",
    "x_test_final = hstack((x_test_brand, x_test_condition, x_test_shipping, x_test_main_cat, x_test_subcat_1, x_test_subcat_2, x_test_bow_desc))\n"
   ]
  },
  {
   "cell_type": "markdown",
   "metadata": {},
   "source": [
    "### Applying Linear Regression Model"
   ]
  },
  {
   "cell_type": "code",
   "execution_count": 2,
   "metadata": {},
   "outputs": [],
   "source": [
    "## log1p --> log(x+1)  for dealing with 0 values in logarithms\n",
    "## Use this if target var price has not been applied with log before\n",
    "##y_train_log = np.log1p(y_train)"
   ]
  },
  {
   "cell_type": "code",
   "execution_count": 15,
   "metadata": {},
   "outputs": [
    {
     "name": "stderr",
     "output_type": "stream",
     "text": [
      "C:\\ProgramData\\Anaconda3\\lib\\site-packages\\sklearn\\model_selection\\_search.py:278: UserWarning: The total space of parameters 9 is smaller than n_iter=10. Running 9 iterations. For exhaustive searches, use GridSearchCV.\n",
      "  warnings.warn(\n"
     ]
    },
    {
     "data": {
      "text/plain": [
       "RandomizedSearchCV(cv=4, estimator=SGDRegressor(random_state=42), n_jobs=-1,\n",
       "                   param_distributions={'alpha': [1e-07, 1e-06, 1e-05, 0.0001,\n",
       "                                                  0.001, 0.01, 0.1, 1, 10]},\n",
       "                   random_state=42, scoring='neg_mean_squared_error')"
      ]
     },
     "execution_count": 15,
     "metadata": {},
     "output_type": "execute_result"
    }
   ],
   "source": [
    "## model fitted by minimizing loss with SGD (Stochastic Gradient Descent)  (SGD converges faster)\n",
    "## We are using Randomised Search for tuning hyperparameters, it uses\n",
    "## random combinations to find the best solution for the model (faster than Grid Search)\n",
    "\n",
    "from sklearn.model_selection import RandomizedSearchCV\n",
    "from sklearn.linear_model import SGDRegressor\n",
    "\n",
    "LR = SGDRegressor(loss='squared_loss', random_state=42)\n",
    "alpha = [10**i for i in range(-7,2)]\n",
    "params = {'alpha':alpha}\n",
    "RS_LR = RandomizedSearchCV(LR, params, scoring='neg_mean_squared_error', cv=4, n_jobs=-1, random_state=42)\n",
    "RS_LR.fit(x_train_final, y_train)"
   ]
  },
  {
   "cell_type": "code",
   "execution_count": 16,
   "metadata": {},
   "outputs": [],
   "source": [
    "from sklearn.linear_model import SGDRegressor\n",
    "LR = SGDRegressor(loss='squared_loss', alpha=1e-07, random_state=42)\n",
    "LR.fit(x_train_final, y_train)\n",
    "y_pred_lr = LR.predict(x_test_final)\n"
   ]
  },
  {
   "cell_type": "code",
   "execution_count": 17,
   "metadata": {},
   "outputs": [
    {
     "data": {
      "text/plain": [
       "array([3.24266009, 3.81330045, 2.82793578, ..., 2.96192282, 3.64058056,\n",
       "       2.89248651])"
      ]
     },
     "execution_count": 17,
     "metadata": {},
     "output_type": "execute_result"
    }
   ],
   "source": [
    "## Predicted values of x_test dataset (numpy array)\n",
    "y_pred_lr"
   ]
  },
  {
   "cell_type": "markdown",
   "metadata": {},
   "source": [
    "##### Building CSV file from predicted price results\n",
    "Submission.csv should contain two columns : id, price"
   ]
  },
  {
   "cell_type": "code",
   "execution_count": 18,
   "metadata": {},
   "outputs": [
    {
     "data": {
      "text/html": [
       "<div>\n",
       "<style scoped>\n",
       "    .dataframe tbody tr th:only-of-type {\n",
       "        vertical-align: middle;\n",
       "    }\n",
       "\n",
       "    .dataframe tbody tr th {\n",
       "        vertical-align: top;\n",
       "    }\n",
       "\n",
       "    .dataframe thead th {\n",
       "        text-align: right;\n",
       "    }\n",
       "</style>\n",
       "<table border=\"1\" class=\"dataframe\">\n",
       "  <thead>\n",
       "    <tr style=\"text-align: right;\">\n",
       "      <th></th>\n",
       "      <th>0</th>\n",
       "    </tr>\n",
       "  </thead>\n",
       "  <tbody>\n",
       "    <tr>\n",
       "      <th>0</th>\n",
       "      <td>3.242660</td>\n",
       "    </tr>\n",
       "    <tr>\n",
       "      <th>1</th>\n",
       "      <td>3.813300</td>\n",
       "    </tr>\n",
       "    <tr>\n",
       "      <th>2</th>\n",
       "      <td>2.827936</td>\n",
       "    </tr>\n",
       "    <tr>\n",
       "      <th>3</th>\n",
       "      <td>2.993224</td>\n",
       "    </tr>\n",
       "    <tr>\n",
       "      <th>4</th>\n",
       "      <td>3.450577</td>\n",
       "    </tr>\n",
       "  </tbody>\n",
       "</table>\n",
       "</div>"
      ],
      "text/plain": [
       "          0\n",
       "0  3.242660\n",
       "1  3.813300\n",
       "2  2.827936\n",
       "3  2.993224\n",
       "4  3.450577"
      ]
     },
     "execution_count": 18,
     "metadata": {},
     "output_type": "execute_result"
    }
   ],
   "source": [
    "## Constructing pandas dataframe from above numpy array\n",
    "df = pd.DataFrame(y_pred_lr)\n",
    "df.head()"
   ]
  },
  {
   "cell_type": "code",
   "execution_count": 21,
   "metadata": {},
   "outputs": [],
   "source": [
    "test_id = test['id']"
   ]
  },
  {
   "cell_type": "code",
   "execution_count": 22,
   "metadata": {},
   "outputs": [],
   "source": [
    "## merging columns containing test_id and predicted prices\n",
    "result = pd.concat([test_id, df], axis = 1)"
   ]
  },
  {
   "cell_type": "code",
   "execution_count": 23,
   "metadata": {},
   "outputs": [
    {
     "data": {
      "text/html": [
       "<div>\n",
       "<style scoped>\n",
       "    .dataframe tbody tr th:only-of-type {\n",
       "        vertical-align: middle;\n",
       "    }\n",
       "\n",
       "    .dataframe tbody tr th {\n",
       "        vertical-align: top;\n",
       "    }\n",
       "\n",
       "    .dataframe thead th {\n",
       "        text-align: right;\n",
       "    }\n",
       "</style>\n",
       "<table border=\"1\" class=\"dataframe\">\n",
       "  <thead>\n",
       "    <tr style=\"text-align: right;\">\n",
       "      <th></th>\n",
       "      <th>id</th>\n",
       "      <th>0</th>\n",
       "    </tr>\n",
       "  </thead>\n",
       "  <tbody>\n",
       "    <tr>\n",
       "      <th>0</th>\n",
       "      <td>1048243</td>\n",
       "      <td>3.242660</td>\n",
       "    </tr>\n",
       "    <tr>\n",
       "      <th>1</th>\n",
       "      <td>86986</td>\n",
       "      <td>3.813300</td>\n",
       "    </tr>\n",
       "    <tr>\n",
       "      <th>2</th>\n",
       "      <td>698316</td>\n",
       "      <td>2.827936</td>\n",
       "    </tr>\n",
       "    <tr>\n",
       "      <th>3</th>\n",
       "      <td>268868</td>\n",
       "      <td>2.993224</td>\n",
       "    </tr>\n",
       "    <tr>\n",
       "      <th>4</th>\n",
       "      <td>1360398</td>\n",
       "      <td>3.450577</td>\n",
       "    </tr>\n",
       "  </tbody>\n",
       "</table>\n",
       "</div>"
      ],
      "text/plain": [
       "        id         0\n",
       "0  1048243  3.242660\n",
       "1    86986  3.813300\n",
       "2   698316  2.827936\n",
       "3   268868  2.993224\n",
       "4  1360398  3.450577"
      ]
     },
     "execution_count": 23,
     "metadata": {},
     "output_type": "execute_result"
    }
   ],
   "source": [
    "result.head()"
   ]
  },
  {
   "cell_type": "code",
   "execution_count": 26,
   "metadata": {},
   "outputs": [],
   "source": [
    "## create csv file for submission\n",
    "## column 1 --> id\n",
    "## column 2 --> price\n",
    "result.to_csv('submission_kaggle.csv')"
   ]
  },
  {
   "cell_type": "code",
   "execution_count": null,
   "metadata": {},
   "outputs": [],
   "source": []
  }
 ],
 "metadata": {
  "kernelspec": {
   "display_name": "Python 3",
   "language": "python",
   "name": "python3"
  },
  "language_info": {
   "codemirror_mode": {
    "name": "ipython",
    "version": 3
   },
   "file_extension": ".py",
   "mimetype": "text/x-python",
   "name": "python",
   "nbconvert_exporter": "python",
   "pygments_lexer": "ipython3",
   "version": "3.8.3"
  }
 },
 "nbformat": 4,
 "nbformat_minor": 4
}
